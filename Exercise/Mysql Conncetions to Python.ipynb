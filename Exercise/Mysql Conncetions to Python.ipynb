#!pip install pymysql
import pymysql  #### API
import pandas as pd
conn=pymysql.connect(host='localhost',port=int(3306),user='root',passwd='####',db='b88')
print("Connection Established", conn)
Connection Established <pymysql.connections.Connection object at 0x000002734C145AD0>
df=pd.read_sql_query("SELECT * FROM  movies",conn)
df
C:\Users\Dell\AppData\Local\Temp\ipykernel_8140\53096677.py:1: UserWarning: pandas only supports SQLAlchemy connectable (engine/connection) or database string URI or sqlite3 DBAPI2 connection. Other DBAPI2 objects are not tested. Please consider using SQLAlchemy.
  df=pd.read_sql_query("SELECT * FROM  movies",conn)
id	title	director	year	length_minutes
0	1	Toy Story	John Lasseter	1995	81
1	2	A Bugs Life	John Lasseter	1998	95
2	3	Toy Story 2	John Lasseter	1999	93
3	4	Monsters, Inc.	Pete Docter	2001	92
4	5	Finding Nemo	Andrew Stanton	2003	107
5	6	The Incredibles	Brad Bird	2004	116
6	7	Cars	John Lasseter	2006	117
7	8	Ratatouille	Brad Bird	2007	115
8	9	WALL-E	Andrew Stanton	2008	104
9	10	Up	Pete Docter	2009	101
10	11	Toy Story 3	Lee Unkrich	2010	103
11	12	Cars 2	John Lasseter	2011	120
12	13	Brave	Brenda Chapman	2012	102
13	14	Monsters University	Dan Scanlon	2013	110
df.info()
<class 'pandas.core.frame.DataFrame'>
RangeIndex: 14 entries, 0 to 13
Data columns (total 2 columns):
 #   Column          Non-Null Count  Dtype  
---  ------          --------------  -----  
 0   title           14 non-null     object 
 1   combined_sales  14 non-null     float64
dtypes: float64(1), object(1)
memory usage: 356.0+ bytes
!pip install pymysql
